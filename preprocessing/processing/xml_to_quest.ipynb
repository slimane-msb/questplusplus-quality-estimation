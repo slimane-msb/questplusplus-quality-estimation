{
 "cells": [
  {
   "cell_type": "code",
   "execution_count": 30,
   "metadata": {},
   "outputs": [
    {
     "name": "stdout",
     "output_type": "stream",
     "text": [
      "jcml\n"
     ]
    }
   ],
   "source": [
    "import xml.etree.ElementTree as ET\n",
    "tree = ET.parse('data/training_data/en-es/wmt2010-public.en-es.jcml.rank.jcml')\n",
    "root = tree.getroot()\n",
    "print(root.tag)"
   ]
  },
  {
   "cell_type": "code",
   "execution_count": 31,
   "metadata": {},
   "outputs": [
    {
     "name": "stdout",
     "output_type": "stream",
     "text": [
      "Yet the newest hotel in Janské Lázně still has half its beds free for Christmas.\n",
      "January this year has been a nice surprise, as we're already sixty-percent booked up.\n",
      "So February isn't looking quite so good, but as soon as it snows, then interest in staying in the Krkonoše will definitely rise, says the owner of the Omnia Hotel, Erik Sporysch.\n",
      "The shares can also be confiscated if the managers take excessive risks.\n",
      "According to Reuters, Goldman Sachs is leading the effort to link Wall Street bonuses with long-term performance.\n",
      "I assume that Wall Street is well aware of the broader path it has to take, said former investment banker for JPMorgan, Douglas Elliott.\n",
      "France is preparing similar measures.\n",
      "France is preparing similar measures.\n",
      "This year, women were awarded the Nobel Prize in all fields except physics\n",
      "This year, women were awarded the Nobel Prize in all fields except physics\n"
     ]
    }
   ],
   "source": [
    "for sentence in root[:10]:\n",
    "    print(sentence[0].text)"
   ]
  },
  {
   "cell_type": "code",
   "execution_count": 32,
   "metadata": {},
   "outputs": [],
   "source": [
    "import os\n",
    "\n",
    "train_or_test = \"training\"\n",
    "directories = [f\"output_data/{train_or_test}/src\",\n",
    "               f\"output_data/{train_or_test}/tgt1\",\n",
    "               f\"output_data/{train_or_test}/tgt2\",\n",
    "               f\"output_data/{train_or_test}/tgt3\",\n",
    "               f\"output_data/{train_or_test}/tgt4\",\n",
    "               f\"output_data/{train_or_test}/ref\"]\n",
    "\n",
    "for directory in directories:\n",
    "    os.makedirs(directory, exist_ok=True)"
   ]
  },
  {
   "cell_type": "code",
   "execution_count": 33,
   "metadata": {},
   "outputs": [],
   "source": [
    "with    open(F\"output_data/{train_or_test}/src/source.sent-level.en\", \"w\") as source_file,  \\\n",
    "        open(F\"output_data/{train_or_test}/tgt1/target.sent-level.sp\", \"w\") as target1_file,  \\\n",
    "        open(F\"output_data/{train_or_test}/tgt2/target.sent-level.sp\", \"w\") as target2_file,  \\\n",
    "        open(F\"output_data/{train_or_test}/tgt3/target.sent-level.sp\", \"w\") as target3_file,  \\\n",
    "        open(F\"output_data/{train_or_test}/tgt4/target.sent-level.sp\", \"w\") as target4_file,  \\\n",
    "        open(F\"output_data/{train_or_test}/ref/ref.sent-level.sp\", \"w\") as ref_file : \n",
    "    for sentence in root.iter(\"judgedsentence\"):\n",
    "        src = sentence[0].text\n",
    "        tgt1 = sentence[1].text\n",
    "        tgt2 = sentence[2].text\n",
    "        tgt3 = sentence[3].text\n",
    "        tgt4 = sentence[4].text\n",
    "        ref = sentence[5].text\n",
    "        source_file.write(src  + \"\\n\")\n",
    "        target1_file.write(tgt1  + \"\\n\")\n",
    "        target2_file.write(tgt2  + \"\\n\")\n",
    "        target3_file.write(tgt3  + \"\\n\")\n",
    "        target4_file.write(tgt4  + \"\\n\")\n",
    "        ref_file.write(ref  + \"\\n\")"
   ]
  },
  {
   "cell_type": "code",
   "execution_count": null,
   "metadata": {},
   "outputs": [],
   "source": []
  },
  {
   "cell_type": "code",
   "execution_count": 34,
   "metadata": {},
   "outputs": [],
   "source": [
    "# asset all files have the same number of lines \n",
    "with    open(F\"output_data/{train_or_test}/src/source.sent-level.en\", \"r\") as source_file,  \\\n",
    "        open(F\"output_data/{train_or_test}/tgt1/target.sent-level.sp\", \"r\") as target1_file,  \\\n",
    "        open(F\"output_data/{train_or_test}/tgt2/target.sent-level.sp\", \"r\") as target2_file,  \\\n",
    "        open(F\"output_data/{train_or_test}/tgt3/target.sent-level.sp\", \"r\") as target3_file,  \\\n",
    "        open(F\"output_data/{train_or_test}/tgt4/target.sent-level.sp\", \"r\") as target4_file,  \\\n",
    "        open(F\"output_data/{train_or_test}/ref/ref.sent-level.sp\", \"r\") as ref_file : \n",
    "    lines_source_file =  source_file.readlines()\n",
    "    lines_target1_file =  target1_file.readlines()\n",
    "    lines_target2_file =  target2_file.readlines()\n",
    "    lines_target3_file =  target3_file.readlines()\n",
    "    lines_target4_file =  target4_file.readlines()\n",
    "    lines_ref_file =  ref_file.readlines()\n",
    "\n",
    "    assert len(lines_source_file) == len(lines_target1_file) == len(lines_target2_file) == len(lines_target3_file) == len(lines_target4_file) == len(lines_ref_file) "
   ]
  }
 ],
 "metadata": {
  "kernelspec": {
   "display_name": "Python 3",
   "language": "python",
   "name": "python3"
  },
  "language_info": {
   "codemirror_mode": {
    "name": "ipython",
    "version": 3
   },
   "file_extension": ".py",
   "mimetype": "text/x-python",
   "name": "python",
   "nbconvert_exporter": "python",
   "pygments_lexer": "ipython3",
   "version": "3.10.6"
  },
  "orig_nbformat": 4,
  "vscode": {
   "interpreter": {
    "hash": "31f2aee4e71d21fbe5cf8b01ff0e069b9275f58929596ceb00d14d90e3e16cd6"
   }
  }
 },
 "nbformat": 4,
 "nbformat_minor": 2
}
